{
 "cells": [
  {
   "cell_type": "code",
   "execution_count": 6,
   "metadata": {},
   "outputs": [
    {
     "name": "stdout",
     "output_type": "stream",
     "text": [
      "On branch master\r\n",
      "Your branch is up-to-date with 'origin/master'.\r\n",
      "Changes not staged for commit:\r\n",
      "  (use \"git add <file>...\" to update what will be committed)\r\n",
      "  (use \"git checkout -- <file>...\" to discard changes in working directory)\r\n",
      "\r\n",
      "\t\u001b[31mmodified:   Daily/elspot-volumes-ipynb/01. elspot-volumes_2013_daily.ipynb\u001b[m\r\n",
      "\t\u001b[31mmodified:   Hourly/01. elspot-volumes_2013_hourly.ipynb\u001b[m\r\n",
      "\t\u001b[31mmodified:   Hourly/03. elspot-volumes_2015_hourly.ipynb\u001b[m\r\n",
      "\t\u001b[31mmodified:   Hourly/04. elspot-volumes_2016_hourly.ipynb\u001b[m\r\n",
      "\t\u001b[31mmodified:   Hourly/05. elspot-volumes_2017_hourly.ipynb\u001b[m\r\n",
      "\t\u001b[31mmodified:   Hourly/06. elspot-volumes_2018_hourly.ipynb\u001b[m\r\n",
      "\t\u001b[31mmodified:   Hourly/Images/2015HourlySE01.png\u001b[m\r\n",
      "\r\n",
      "Untracked files:\r\n",
      "  (use \"git add <file>...\" to include in what will be committed)\r\n",
      "\r\n",
      "\t\u001b[31m.ipynb_checkpoints/\u001b[m\r\n",
      "\t\u001b[31mGit codes.ipynb\u001b[m\r\n",
      "\t\u001b[31mHourly/Images/2015HourlySE02.png\u001b[m\r\n",
      "\t\u001b[31mHourly/Images/2015HourlySE03.png\u001b[m\r\n",
      "\t\u001b[31mHourly/Images/2015HourlySE04.png\u001b[m\r\n",
      "\t\u001b[31mHourly/Images/2016HourlySE01.png\u001b[m\r\n",
      "\t\u001b[31mHourly/Images/2016HourlySE02.png\u001b[m\r\n",
      "\t\u001b[31mHourly/Images/2016HourlySE03.png\u001b[m\r\n",
      "\t\u001b[31mHourly/Images/2016HourlySE04.png\u001b[m\r\n",
      "\t\u001b[31mHourly/Images/2017HourlySE01.png\u001b[m\r\n",
      "\t\u001b[31mHourly/Images/2017HourlySE02.png\u001b[m\r\n",
      "\t\u001b[31mHourly/Images/2017HourlySE03.png\u001b[m\r\n",
      "\t\u001b[31mHourly/Images/2017HourlySE04.png\u001b[m\r\n",
      "\t\u001b[31mHourly/Images/2018HourlySE01.png\u001b[m\r\n",
      "\t\u001b[31mHourly/Images/2018HourlySE02.png\u001b[m\r\n",
      "\t\u001b[31mHourly/Images/2018HourlySE03.png\u001b[m\r\n",
      "\t\u001b[31mHourly/Images/2018HourlySE04.png\u001b[m\r\n",
      "\t\u001b[31mHourly/Images/2019HourlySE01.png\u001b[m\r\n",
      "\t\u001b[31mHourly/Images/2019HourlySE02.png\u001b[m\r\n",
      "\t\u001b[31mHourly/Images/2019HourlySE03.png\u001b[m\r\n",
      "\t\u001b[31mHourly/Images/2019HourlySE04.png\u001b[m\r\n",
      "\r\n",
      "no changes added to commit (use \"git add\" and/or \"git commit -a\")\r\n"
     ]
    }
   ],
   "source": [
    "!git status"
   ]
  },
  {
   "cell_type": "code",
   "execution_count": 7,
   "metadata": {},
   "outputs": [
    {
     "name": "stdout",
     "output_type": "stream",
     "text": [
      "fatal: Unable to create '/home/paperspace/NordPole_Volume/.git/index.lock': File exists.\r\n",
      "\r\n",
      "If no other git process is currently running, this probably means a\r\n",
      "git process crashed in this repository earlier. Make sure no other git\r\n",
      "process is running and remove the file manually to continue.\r\n"
     ]
    }
   ],
   "source": [
    "!git add -A"
   ]
  },
  {
   "cell_type": "code",
   "execution_count": null,
   "metadata": {},
   "outputs": [],
   "source": []
  }
 ],
 "metadata": {
  "kernelspec": {
   "display_name": "Python 3",
   "language": "python",
   "name": "python3"
  },
  "language_info": {
   "codemirror_mode": {
    "name": "ipython",
    "version": 3
   },
   "file_extension": ".py",
   "mimetype": "text/x-python",
   "name": "python",
   "nbconvert_exporter": "python",
   "pygments_lexer": "ipython3",
   "version": "3.7.1"
  }
 },
 "nbformat": 4,
 "nbformat_minor": 2
}
