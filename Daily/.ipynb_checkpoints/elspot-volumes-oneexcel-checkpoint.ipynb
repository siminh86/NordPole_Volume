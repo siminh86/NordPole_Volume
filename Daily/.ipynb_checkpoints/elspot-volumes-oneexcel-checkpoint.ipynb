{
 "cells": [
  {
   "cell_type": "code",
   "execution_count": 1,
   "metadata": {},
   "outputs": [],
   "source": [
    "import pandas as pd\n",
    "import matplotlib.pyplot as plt\n",
    "%matplotlib inline"
   ]
  },
  {
   "cell_type": "code",
   "execution_count": 2,
   "metadata": {},
   "outputs": [
    {
     "data": {
      "text/plain": [
       "(365,)"
      ]
     },
     "execution_count": 2,
     "metadata": {},
     "output_type": "execute_result"
    }
   ],
   "source": [
    "# Importing 365 days in a year\n",
    "df_date = pd.read_excel(\"DateInOneYear.xlsx\",header=None)\n",
    "RevisedDate = df_date[0]\n",
    "RevisedDate.shape"
   ]
  },
  {
   "cell_type": "code",
   "execution_count": 3,
   "metadata": {},
   "outputs": [],
   "source": [
    "df = pd.read_excel(\"elspot-volumes-oneexcel.xlsx\")\n",
    "df['Date_daily'] = RevisedDate"
   ]
  },
  {
   "cell_type": "code",
   "execution_count": 4,
   "metadata": {},
   "outputs": [
    {
     "data": {
      "text/plain": [
       "(2365, 9)"
      ]
     },
     "execution_count": 4,
     "metadata": {},
     "output_type": "execute_result"
    }
   ],
   "source": [
    "df.shape"
   ]
  },
  {
   "cell_type": "code",
   "execution_count": null,
   "metadata": {},
   "outputs": [],
   "source": [
    "X = df['Date_daily']\n",
    "SE1_Buy = df['SE1 Buy']\n",
    "SE1_Sell = df['SE1 Sell']\n"
   ]
  },
  {
   "cell_type": "code",
   "execution_count": null,
   "metadata": {},
   "outputs": [],
   "source": [
    "from matplotlib.pyplot import figure\n",
    "figure(num=None, figsize=(20, 10), dpi=80, facecolor='w', edgecolor='k')\n",
    "\n",
    "plt.plot(X,SE1_Buy)\n",
    "plt.plot(X,SE1_Sell)"
   ]
  },
  {
   "cell_type": "code",
   "execution_count": null,
   "metadata": {},
   "outputs": [],
   "source": [
    "SE2_Buy = df['SE2 Buy']\n",
    "SE2_Sell = df['SE2 Sell']\n",
    "\n",
    "SE3_Buy = df['SE3 Buy']\n",
    "SE3_Sell = df['SE3 Sell']\n",
    "\n",
    "SE4_Buy = df['SE4 Buy']\n",
    "SE4_Sell = df['SE4 Sell']"
   ]
  },
  {
   "cell_type": "code",
   "execution_count": null,
   "metadata": {},
   "outputs": [],
   "source": [
    "from matplotlib.pyplot import figure\n",
    "figure(num=None, figsize=(20, 10), dpi=80, facecolor='w', edgecolor='k')\n",
    "\n",
    "plt.plot(X,SE2_Buy,SE3_Buy,SE4_Buy)\n",
    "plt.plot(X,SE2_Sell,SE3_Sell,SE4_Sell)"
   ]
  }
 ],
 "metadata": {
  "kernelspec": {
   "display_name": "Python 3",
   "language": "python",
   "name": "python3"
  },
  "language_info": {
   "codemirror_mode": {
    "name": "ipython",
    "version": 3
   },
   "file_extension": ".py",
   "mimetype": "text/x-python",
   "name": "python",
   "nbconvert_exporter": "python",
   "pygments_lexer": "ipython3",
   "version": "3.7.0"
  }
 },
 "nbformat": 4,
 "nbformat_minor": 2
}
