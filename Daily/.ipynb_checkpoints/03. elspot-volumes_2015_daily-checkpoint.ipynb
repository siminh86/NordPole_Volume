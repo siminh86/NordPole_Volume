{
 "cells": [
  {
   "cell_type": "code",
   "execution_count": 8,
   "metadata": {},
   "outputs": [],
   "source": [
    "import pandas as pd\n",
    "import matplotlib.pyplot as plt\n",
    "%matplotlib inline"
   ]
  },
  {
   "cell_type": "code",
   "execution_count": 9,
   "metadata": {},
   "outputs": [
    {
     "name": "stderr",
     "output_type": "stream",
     "text": [
      "C:\\ProgramData\\Anaconda3\\lib\\site-packages\\pandas\\io\\excel.py:329: FutureWarning: The `sheetname` keyword is deprecated, use `sheet_name` instead\n",
      "  **kwds)\n"
     ]
    },
    {
     "data": {
      "text/plain": [
       "(365,)"
      ]
     },
     "execution_count": 9,
     "metadata": {},
     "output_type": "execute_result"
    }
   ],
   "source": [
    "# Importing 365 days in a year\n",
    "df_date = pd.read_excel(\"DateInOneYear.xlsx\", sheetname='2015', header=None)\n",
    "RevisedDate = df_date[0]\n",
    "RevisedDate.shape"
   ]
  },
  {
   "cell_type": "code",
   "execution_count": 10,
   "metadata": {},
   "outputs": [
    {
     "data": {
      "text/html": [
       "<div>\n",
       "<style scoped>\n",
       "    .dataframe tbody tr th:only-of-type {\n",
       "        vertical-align: middle;\n",
       "    }\n",
       "\n",
       "    .dataframe tbody tr th {\n",
       "        vertical-align: top;\n",
       "    }\n",
       "\n",
       "    .dataframe thead th {\n",
       "        text-align: right;\n",
       "    }\n",
       "</style>\n",
       "<table border=\"1\" class=\"dataframe\">\n",
       "  <thead>\n",
       "    <tr style=\"text-align: right;\">\n",
       "      <th></th>\n",
       "      <th>Date_daily</th>\n",
       "      <th>Turnover at system price</th>\n",
       "      <th>NO1 Buy</th>\n",
       "      <th>NO1 Sell</th>\n",
       "      <th>NO2 Buy</th>\n",
       "      <th>NO2 Sell</th>\n",
       "      <th>NO3 Buy</th>\n",
       "      <th>NO3 Sell</th>\n",
       "      <th>NO4 Buy</th>\n",
       "      <th>NO4 Sell</th>\n",
       "      <th>...</th>\n",
       "      <th>DK1 Buy</th>\n",
       "      <th>DK1 Sell</th>\n",
       "      <th>DK2 Buy</th>\n",
       "      <th>DK2 Sell</th>\n",
       "      <th>EE Buy</th>\n",
       "      <th>EE Sell</th>\n",
       "      <th>LV Buy</th>\n",
       "      <th>LV Sell</th>\n",
       "      <th>LT Buy</th>\n",
       "      <th>LT Sell</th>\n",
       "    </tr>\n",
       "  </thead>\n",
       "  <tbody>\n",
       "    <tr>\n",
       "      <th>0</th>\n",
       "      <td>2015-01-01</td>\n",
       "      <td>953304,2</td>\n",
       "      <td>125376,8</td>\n",
       "      <td>54003,8</td>\n",
       "      <td>119138,3</td>\n",
       "      <td>113317,9</td>\n",
       "      <td>57283,8</td>\n",
       "      <td>29021,4</td>\n",
       "      <td>45815,4</td>\n",
       "      <td>34477,8</td>\n",
       "      <td>...</td>\n",
       "      <td>21349,1</td>\n",
       "      <td>74853,6</td>\n",
       "      <td>31838,7</td>\n",
       "      <td>46282,9</td>\n",
       "      <td>19096,2</td>\n",
       "      <td>20781,3</td>\n",
       "      <td>17528,0</td>\n",
       "      <td>4886,2</td>\n",
       "      <td>24981,8</td>\n",
       "      <td>16471,7</td>\n",
       "    </tr>\n",
       "    <tr>\n",
       "      <th>1</th>\n",
       "      <td>2015-01-02</td>\n",
       "      <td>1013880,7</td>\n",
       "      <td>126923,6</td>\n",
       "      <td>53465,6</td>\n",
       "      <td>119676,1</td>\n",
       "      <td>129104,3</td>\n",
       "      <td>64188,9</td>\n",
       "      <td>34483,0</td>\n",
       "      <td>47928,7</td>\n",
       "      <td>38034,6</td>\n",
       "      <td>...</td>\n",
       "      <td>24862,2</td>\n",
       "      <td>80127,7</td>\n",
       "      <td>37438,1</td>\n",
       "      <td>50647,5</td>\n",
       "      <td>20222,3</td>\n",
       "      <td>24969,0</td>\n",
       "      <td>19580,4</td>\n",
       "      <td>8537,5</td>\n",
       "      <td>24219,6</td>\n",
       "      <td>15890,7</td>\n",
       "    </tr>\n",
       "    <tr>\n",
       "      <th>2</th>\n",
       "      <td>2015-01-03</td>\n",
       "      <td>1012697,4</td>\n",
       "      <td>119946,5</td>\n",
       "      <td>49026,1</td>\n",
       "      <td>120224,4</td>\n",
       "      <td>142687,1</td>\n",
       "      <td>65069,8</td>\n",
       "      <td>35069,6</td>\n",
       "      <td>46983,4</td>\n",
       "      <td>38378,0</td>\n",
       "      <td>...</td>\n",
       "      <td>25023,4</td>\n",
       "      <td>71563,9</td>\n",
       "      <td>37190,0</td>\n",
       "      <td>43143,0</td>\n",
       "      <td>18244,0</td>\n",
       "      <td>20796,7</td>\n",
       "      <td>19585,8</td>\n",
       "      <td>8633,6</td>\n",
       "      <td>20835,3</td>\n",
       "      <td>12626,7</td>\n",
       "    </tr>\n",
       "    <tr>\n",
       "      <th>3</th>\n",
       "      <td>2015-01-04</td>\n",
       "      <td>1052355,5</td>\n",
       "      <td>124085,7</td>\n",
       "      <td>50963,7</td>\n",
       "      <td>122283,3</td>\n",
       "      <td>158261,1</td>\n",
       "      <td>64112,5</td>\n",
       "      <td>36342,5</td>\n",
       "      <td>48399,5</td>\n",
       "      <td>38454,1</td>\n",
       "      <td>...</td>\n",
       "      <td>29034,6</td>\n",
       "      <td>79152,9</td>\n",
       "      <td>34675,4</td>\n",
       "      <td>46318,4</td>\n",
       "      <td>19735,2</td>\n",
       "      <td>20666,1</td>\n",
       "      <td>19056,2</td>\n",
       "      <td>11332,8</td>\n",
       "      <td>20295,9</td>\n",
       "      <td>11546,5</td>\n",
       "    </tr>\n",
       "    <tr>\n",
       "      <th>4</th>\n",
       "      <td>2015-01-05</td>\n",
       "      <td>1212966,7</td>\n",
       "      <td>138822,5</td>\n",
       "      <td>59286,3</td>\n",
       "      <td>129750,8</td>\n",
       "      <td>202758,8</td>\n",
       "      <td>68211,1</td>\n",
       "      <td>52265,9</td>\n",
       "      <td>53226,8</td>\n",
       "      <td>70078,1</td>\n",
       "      <td>...</td>\n",
       "      <td>57085,5</td>\n",
       "      <td>54003,9</td>\n",
       "      <td>45260,8</td>\n",
       "      <td>30834,3</td>\n",
       "      <td>23970,0</td>\n",
       "      <td>31775,8</td>\n",
       "      <td>23400,7</td>\n",
       "      <td>16723,9</td>\n",
       "      <td>25593,7</td>\n",
       "      <td>18228,8</td>\n",
       "    </tr>\n",
       "  </tbody>\n",
       "</table>\n",
       "<p>5 rows × 34 columns</p>\n",
       "</div>"
      ],
      "text/plain": [
       "  Date_daily Turnover at system price   NO1 Buy NO1 Sell   NO2 Buy  NO2 Sell  \\\n",
       "0 2015-01-01                 953304,2  125376,8  54003,8  119138,3  113317,9   \n",
       "1 2015-01-02                1013880,7  126923,6  53465,6  119676,1  129104,3   \n",
       "2 2015-01-03                1012697,4  119946,5  49026,1  120224,4  142687,1   \n",
       "3 2015-01-04                1052355,5  124085,7  50963,7  122283,3  158261,1   \n",
       "4 2015-01-05                1212966,7  138822,5  59286,3  129750,8  202758,8   \n",
       "\n",
       "   NO3 Buy NO3 Sell  NO4 Buy NO4 Sell   ...     DK1 Buy DK1 Sell  DK2 Buy  \\\n",
       "0  57283,8  29021,4  45815,4  34477,8   ...     21349,1  74853,6  31838,7   \n",
       "1  64188,9  34483,0  47928,7  38034,6   ...     24862,2  80127,7  37438,1   \n",
       "2  65069,8  35069,6  46983,4  38378,0   ...     25023,4  71563,9  37190,0   \n",
       "3  64112,5  36342,5  48399,5  38454,1   ...     29034,6  79152,9  34675,4   \n",
       "4  68211,1  52265,9  53226,8  70078,1   ...     57085,5  54003,9  45260,8   \n",
       "\n",
       "  DK2 Sell   EE Buy  EE Sell   LV Buy  LV Sell   LT Buy  LT Sell  \n",
       "0  46282,9  19096,2  20781,3  17528,0   4886,2  24981,8  16471,7  \n",
       "1  50647,5  20222,3  24969,0  19580,4   8537,5  24219,6  15890,7  \n",
       "2  43143,0  18244,0  20796,7  19585,8   8633,6  20835,3  12626,7  \n",
       "3  46318,4  19735,2  20666,1  19056,2  11332,8  20295,9  11546,5  \n",
       "4  30834,3  23970,0  31775,8  23400,7  16723,9  25593,7  18228,8  \n",
       "\n",
       "[5 rows x 34 columns]"
      ]
     },
     "execution_count": 10,
     "metadata": {},
     "output_type": "execute_result"
    }
   ],
   "source": [
    "df = pd.read_excel(\"03. elspot-volumes_2015_daily.xlsx\")\n",
    "df['Date_daily'] = RevisedDate\n",
    "df.head(5)"
   ]
  },
  {
   "cell_type": "code",
   "execution_count": 11,
   "metadata": {},
   "outputs": [
    {
     "data": {
      "text/plain": [
       "(365, 34)"
      ]
     },
     "execution_count": 11,
     "metadata": {},
     "output_type": "execute_result"
    }
   ],
   "source": [
    "df.shape"
   ]
  },
  {
   "cell_type": "code",
   "execution_count": 12,
   "metadata": {},
   "outputs": [],
   "source": [
    "X = df['Date_daily']\n",
    "SE1_Buy = df['SE1 Buy']\n",
    "SE1_Sell = df['SE1 Sell']"
   ]
  },
  {
   "cell_type": "code",
   "execution_count": null,
   "metadata": {},
   "outputs": [
    {
     "data": {
      "text/plain": [
       "[<matplotlib.lines.Line2D at 0x1e6111d3048>]"
      ]
     },
     "execution_count": 13,
     "metadata": {},
     "output_type": "execute_result"
    }
   ],
   "source": [
    "from matplotlib.pyplot import figure\n",
    "figure(num=None, figsize=(20, 10), dpi=80, facecolor='w', edgecolor='k')\n",
    "\n",
    "plt.plot(X,SE1_Buy)\n",
    "plt.plot(X,SE1_Sell)"
   ]
  },
  {
   "cell_type": "code",
   "execution_count": null,
   "metadata": {},
   "outputs": [],
   "source": [
    "SE2_Buy = df['SE2 Buy']\n",
    "SE2_Sell = df['SE2 Sell']"
   ]
  },
  {
   "cell_type": "code",
   "execution_count": null,
   "metadata": {},
   "outputs": [],
   "source": [
    "from matplotlib.pyplot import figure\n",
    "figure(num=None, figsize=(20, 10), dpi=80, facecolor='w', edgecolor='k')\n",
    "\n",
    "plt.plot(X,SE2_Buy)\n",
    "plt.plot(X,SE2_Sell)"
   ]
  },
  {
   "cell_type": "code",
   "execution_count": null,
   "metadata": {},
   "outputs": [],
   "source": [
    "SE3_Buy = df['SE3 Buy']\n",
    "SE3_Sell = df['SE3 Sell']"
   ]
  },
  {
   "cell_type": "code",
   "execution_count": null,
   "metadata": {},
   "outputs": [],
   "source": [
    "from matplotlib.pyplot import figure\n",
    "figure(num=None, figsize=(20, 10), dpi=80, facecolor='w', edgecolor='k')\n",
    "\n",
    "plt.plot(X,SE3_Buy)\n",
    "plt.plot(X,SE3_Sell)"
   ]
  },
  {
   "cell_type": "code",
   "execution_count": null,
   "metadata": {},
   "outputs": [],
   "source": [
    "SE4_Buy = df['SE4 Buy']\n",
    "SE4_Sell = df['SE4 Sell']"
   ]
  },
  {
   "cell_type": "code",
   "execution_count": null,
   "metadata": {},
   "outputs": [],
   "source": [
    "from matplotlib.pyplot import figure\n",
    "figure(num=None, figsize=(20, 10), dpi=80, facecolor='w', edgecolor='k')\n",
    "\n",
    "plt.plot(X,SE4_Buy)\n",
    "plt.plot(X,SE4_Sell)"
   ]
  },
  {
   "cell_type": "code",
   "execution_count": null,
   "metadata": {},
   "outputs": [],
   "source": []
  }
 ],
 "metadata": {
  "kernelspec": {
   "display_name": "Python 3",
   "language": "python",
   "name": "python3"
  },
  "language_info": {
   "codemirror_mode": {
    "name": "ipython",
    "version": 3
   },
   "file_extension": ".py",
   "mimetype": "text/x-python",
   "name": "python",
   "nbconvert_exporter": "python",
   "pygments_lexer": "ipython3",
   "version": "3.7.0"
  }
 },
 "nbformat": 4,
 "nbformat_minor": 2
}
