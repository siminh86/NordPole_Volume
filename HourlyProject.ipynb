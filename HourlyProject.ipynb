{
 "cells": [
  {
   "cell_type": "code",
   "execution_count": 3,
   "metadata": {
    "collapsed": true
   },
   "outputs": [],
   "source": [
    "import pandas as pd"
   ]
  },
  {
   "cell_type": "code",
   "execution_count": 6,
   "metadata": {},
   "outputs": [
    {
     "data": {
      "text/html": [
       "<div>\n",
       "<style>\n",
       "    .dataframe thead tr:only-child th {\n",
       "        text-align: right;\n",
       "    }\n",
       "\n",
       "    .dataframe thead th {\n",
       "        text-align: left;\n",
       "    }\n",
       "\n",
       "    .dataframe tbody tr th {\n",
       "        vertical-align: top;\n",
       "    }\n",
       "</style>\n",
       "<table border=\"1\" class=\"dataframe\">\n",
       "  <thead>\n",
       "    <tr style=\"text-align: right;\">\n",
       "      <th></th>\n",
       "      <th>Elspot volumes in MWh</th>\n",
       "      <th>Unnamed: 1</th>\n",
       "      <th>Unnamed: 2</th>\n",
       "      <th>Unnamed: 3</th>\n",
       "      <th>Unnamed: 4</th>\n",
       "      <th>Unnamed: 5</th>\n",
       "      <th>Unnamed: 6</th>\n",
       "      <th>Unnamed: 7</th>\n",
       "      <th>Unnamed: 8</th>\n",
       "      <th>Unnamed: 9</th>\n",
       "      <th>...</th>\n",
       "      <th>Unnamed: 24</th>\n",
       "      <th>Unnamed: 25</th>\n",
       "      <th>Unnamed: 26</th>\n",
       "      <th>Unnamed: 27</th>\n",
       "      <th>Unnamed: 28</th>\n",
       "      <th>Unnamed: 29</th>\n",
       "      <th>Unnamed: 30</th>\n",
       "      <th>Unnamed: 31</th>\n",
       "      <th>Unnamed: 32</th>\n",
       "      <th>Unnamed: 33</th>\n",
       "    </tr>\n",
       "  </thead>\n",
       "  <tbody>\n",
       "    <tr>\n",
       "      <th>0</th>\n",
       "      <td>Data was last updated 20-06-2019</td>\n",
       "      <td>NaN</td>\n",
       "      <td>NaN</td>\n",
       "      <td>NaN</td>\n",
       "      <td>NaN</td>\n",
       "      <td>NaN</td>\n",
       "      <td>NaN</td>\n",
       "      <td>NaN</td>\n",
       "      <td>NaN</td>\n",
       "      <td>NaN</td>\n",
       "      <td>...</td>\n",
       "      <td>NaN</td>\n",
       "      <td>NaN</td>\n",
       "      <td>NaN</td>\n",
       "      <td>NaN</td>\n",
       "      <td>NaN</td>\n",
       "      <td>NaN</td>\n",
       "      <td>NaN</td>\n",
       "      <td>NaN</td>\n",
       "      <td>NaN</td>\n",
       "      <td>NaN</td>\n",
       "    </tr>\n",
       "    <tr>\n",
       "      <th>1</th>\n",
       "      <td>NaN</td>\n",
       "      <td>Turnover at system price</td>\n",
       "      <td>NO1 Buy</td>\n",
       "      <td>NO1 Sell</td>\n",
       "      <td>NO2 Buy</td>\n",
       "      <td>NO2 Sell</td>\n",
       "      <td>NO3 Buy</td>\n",
       "      <td>NO3 Sell</td>\n",
       "      <td>NO4 Buy</td>\n",
       "      <td>NO4 Sell</td>\n",
       "      <td>...</td>\n",
       "      <td>DK1 Buy</td>\n",
       "      <td>DK1 Sell</td>\n",
       "      <td>DK2 Buy</td>\n",
       "      <td>DK2 Sell</td>\n",
       "      <td>EE Buy</td>\n",
       "      <td>EE Sell</td>\n",
       "      <td>LV Buy</td>\n",
       "      <td>LV Sell</td>\n",
       "      <td>LT Buy</td>\n",
       "      <td>LT Sell</td>\n",
       "    </tr>\n",
       "    <tr>\n",
       "      <th>2</th>\n",
       "      <td>2019-01-01 00:00:00</td>\n",
       "      <td>962979,3</td>\n",
       "      <td>117113,9</td>\n",
       "      <td>36893,1</td>\n",
       "      <td>101671,6</td>\n",
       "      <td>95138,0</td>\n",
       "      <td>77547,3</td>\n",
       "      <td>55707,9</td>\n",
       "      <td>47729,8</td>\n",
       "      <td>32519,2</td>\n",
       "      <td>...</td>\n",
       "      <td>35378,6</td>\n",
       "      <td>83233,3</td>\n",
       "      <td>26206,4</td>\n",
       "      <td>39680,1</td>\n",
       "      <td>19671,2</td>\n",
       "      <td>16915,0</td>\n",
       "      <td>20882,6</td>\n",
       "      <td>9939,0</td>\n",
       "      <td>30864,8</td>\n",
       "      <td>41499,9</td>\n",
       "    </tr>\n",
       "  </tbody>\n",
       "</table>\n",
       "<p>3 rows × 34 columns</p>\n",
       "</div>"
      ],
      "text/plain": [
       "              Elspot volumes in MWh                Unnamed: 1 Unnamed: 2  \\\n",
       "0  Data was last updated 20-06-2019                       NaN        NaN   \n",
       "1                               NaN  Turnover at system price    NO1 Buy   \n",
       "2               2019-01-01 00:00:00                  962979,3   117113,9   \n",
       "\n",
       "  Unnamed: 3 Unnamed: 4 Unnamed: 5 Unnamed: 6 Unnamed: 7 Unnamed: 8  \\\n",
       "0        NaN        NaN        NaN        NaN        NaN        NaN   \n",
       "1   NO1 Sell    NO2 Buy   NO2 Sell    NO3 Buy   NO3 Sell    NO4 Buy   \n",
       "2    36893,1   101671,6    95138,0    77547,3    55707,9    47729,8   \n",
       "\n",
       "  Unnamed: 9     ...     Unnamed: 24 Unnamed: 25 Unnamed: 26 Unnamed: 27  \\\n",
       "0        NaN     ...             NaN         NaN         NaN         NaN   \n",
       "1   NO4 Sell     ...         DK1 Buy    DK1 Sell     DK2 Buy    DK2 Sell   \n",
       "2    32519,2     ...         35378,6     83233,3     26206,4     39680,1   \n",
       "\n",
       "  Unnamed: 28 Unnamed: 29 Unnamed: 30 Unnamed: 31 Unnamed: 32 Unnamed: 33  \n",
       "0         NaN         NaN         NaN         NaN         NaN         NaN  \n",
       "1      EE Buy     EE Sell      LV Buy     LV Sell      LT Buy     LT Sell  \n",
       "2     19671,2     16915,0     20882,6      9939,0     30864,8     41499,9  \n",
       "\n",
       "[3 rows x 34 columns]"
      ]
     },
     "execution_count": 6,
     "metadata": {},
     "output_type": "execute_result"
    }
   ],
   "source": [
    "func = pd.read_excel('2019Volume.xlsx')\n",
    "func.head(3)"
   ]
  },
  {
   "cell_type": "code",
   "execution_count": 7,
   "metadata": {},
   "outputs": [
    {
     "data": {
      "text/plain": [
       "(173, 34)"
      ]
     },
     "execution_count": 7,
     "metadata": {},
     "output_type": "execute_result"
    }
   ],
   "source": [
    "func.shape"
   ]
  },
  {
   "cell_type": "code",
   "execution_count": null,
   "metadata": {
    "collapsed": true
   },
   "outputs": [],
   "source": []
  }
 ],
 "metadata": {
  "kernelspec": {
   "display_name": "Python 3",
   "language": "python",
   "name": "python3"
  },
  "language_info": {
   "codemirror_mode": {
    "name": "ipython",
    "version": 3
   },
   "file_extension": ".py",
   "mimetype": "text/x-python",
   "name": "python",
   "nbconvert_exporter": "python",
   "pygments_lexer": "ipython3",
   "version": "3.6.3"
  }
 },
 "nbformat": 4,
 "nbformat_minor": 2
}
