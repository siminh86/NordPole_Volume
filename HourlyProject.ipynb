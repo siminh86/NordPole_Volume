{
 "cells": [
  {
   "cell_type": "code",
   "execution_count": 12,
   "metadata": {},
   "outputs": [],
   "source": [
    "import pandas as pd\n",
    "import matplotlib.pyplot as plt\n",
    "%matplotlib inline"
   ]
  },
  {
   "cell_type": "code",
   "execution_count": 8,
   "metadata": {},
   "outputs": [
    {
     "data": {
      "text/html": [
       "<div>\n",
       "<style>\n",
       "    .dataframe thead tr:only-child th {\n",
       "        text-align: right;\n",
       "    }\n",
       "\n",
       "    .dataframe thead th {\n",
       "        text-align: left;\n",
       "    }\n",
       "\n",
       "    .dataframe tbody tr th {\n",
       "        vertical-align: top;\n",
       "    }\n",
       "</style>\n",
       "<table border=\"1\" class=\"dataframe\">\n",
       "  <thead>\n",
       "    <tr style=\"text-align: right;\">\n",
       "      <th></th>\n",
       "      <th>Date</th>\n",
       "      <th>Turnover at system price</th>\n",
       "      <th>NO1 Buy</th>\n",
       "      <th>NO1 Sell</th>\n",
       "      <th>NO2 Buy</th>\n",
       "      <th>NO2 Sell</th>\n",
       "      <th>NO3 Buy</th>\n",
       "      <th>NO3 Sell</th>\n",
       "      <th>NO4 Buy</th>\n",
       "      <th>NO4 Sell</th>\n",
       "      <th>...</th>\n",
       "      <th>DK1 Buy</th>\n",
       "      <th>DK1 Sell</th>\n",
       "      <th>DK2 Buy</th>\n",
       "      <th>DK2 Sell</th>\n",
       "      <th>EE Buy</th>\n",
       "      <th>EE Sell</th>\n",
       "      <th>LV Buy</th>\n",
       "      <th>LV Sell</th>\n",
       "      <th>LT Buy</th>\n",
       "      <th>LT Sell</th>\n",
       "    </tr>\n",
       "  </thead>\n",
       "  <tbody>\n",
       "    <tr>\n",
       "      <th>0</th>\n",
       "      <td>2019-01-01</td>\n",
       "      <td>962979,3</td>\n",
       "      <td>117113,9</td>\n",
       "      <td>36893,1</td>\n",
       "      <td>101671,6</td>\n",
       "      <td>95138,0</td>\n",
       "      <td>77547,3</td>\n",
       "      <td>55707,9</td>\n",
       "      <td>47729,8</td>\n",
       "      <td>32519,2</td>\n",
       "      <td>...</td>\n",
       "      <td>35378,6</td>\n",
       "      <td>83233,3</td>\n",
       "      <td>26206,4</td>\n",
       "      <td>39680,1</td>\n",
       "      <td>19671,2</td>\n",
       "      <td>16915,0</td>\n",
       "      <td>20882,6</td>\n",
       "      <td>9939,0</td>\n",
       "      <td>30864,8</td>\n",
       "      <td>41499,9</td>\n",
       "    </tr>\n",
       "    <tr>\n",
       "      <th>1</th>\n",
       "      <td>2019-02-01</td>\n",
       "      <td>1159437,5</td>\n",
       "      <td>138160,7</td>\n",
       "      <td>41818,1</td>\n",
       "      <td>114813,9</td>\n",
       "      <td>134716,3</td>\n",
       "      <td>85246,1</td>\n",
       "      <td>65215,6</td>\n",
       "      <td>52813,6</td>\n",
       "      <td>57187,3</td>\n",
       "      <td>...</td>\n",
       "      <td>52203,5</td>\n",
       "      <td>77572,9</td>\n",
       "      <td>36449,1</td>\n",
       "      <td>37188,5</td>\n",
       "      <td>23760,0</td>\n",
       "      <td>21870,0</td>\n",
       "      <td>20755,2</td>\n",
       "      <td>13790,4</td>\n",
       "      <td>37286,6</td>\n",
       "      <td>46785,0</td>\n",
       "    </tr>\n",
       "    <tr>\n",
       "      <th>2</th>\n",
       "      <td>2019-03-01</td>\n",
       "      <td>1256698,7</td>\n",
       "      <td>135422,6</td>\n",
       "      <td>47680,0</td>\n",
       "      <td>118955,3</td>\n",
       "      <td>163173,1</td>\n",
       "      <td>83231,6</td>\n",
       "      <td>76809,2</td>\n",
       "      <td>50525,5</td>\n",
       "      <td>70498,8</td>\n",
       "      <td>...</td>\n",
       "      <td>71610,4</td>\n",
       "      <td>64639,8</td>\n",
       "      <td>45607,7</td>\n",
       "      <td>27492,6</td>\n",
       "      <td>24150,0</td>\n",
       "      <td>22507,5</td>\n",
       "      <td>22100,1</td>\n",
       "      <td>19033,7</td>\n",
       "      <td>40480,2</td>\n",
       "      <td>44750,8</td>\n",
       "    </tr>\n",
       "  </tbody>\n",
       "</table>\n",
       "<p>3 rows × 34 columns</p>\n",
       "</div>"
      ],
      "text/plain": [
       "        Date Turnover at system price   NO1 Buy NO1 Sell   NO2 Buy  NO2 Sell  \\\n",
       "0 2019-01-01                 962979,3  117113,9  36893,1  101671,6   95138,0   \n",
       "1 2019-02-01                1159437,5  138160,7  41818,1  114813,9  134716,3   \n",
       "2 2019-03-01                1256698,7  135422,6  47680,0  118955,3  163173,1   \n",
       "\n",
       "   NO3 Buy NO3 Sell  NO4 Buy NO4 Sell   ...     DK1 Buy DK1 Sell  DK2 Buy  \\\n",
       "0  77547,3  55707,9  47729,8  32519,2   ...     35378,6  83233,3  26206,4   \n",
       "1  85246,1  65215,6  52813,6  57187,3   ...     52203,5  77572,9  36449,1   \n",
       "2  83231,6  76809,2  50525,5  70498,8   ...     71610,4  64639,8  45607,7   \n",
       "\n",
       "  DK2 Sell   EE Buy  EE Sell   LV Buy  LV Sell   LT Buy  LT Sell  \n",
       "0  39680,1  19671,2  16915,0  20882,6   9939,0  30864,8  41499,9  \n",
       "1  37188,5  23760,0  21870,0  20755,2  13790,4  37286,6  46785,0  \n",
       "2  27492,6  24150,0  22507,5  22100,1  19033,7  40480,2  44750,8  \n",
       "\n",
       "[3 rows x 34 columns]"
      ]
     },
     "execution_count": 8,
     "metadata": {},
     "output_type": "execute_result"
    }
   ],
   "source": [
    "func = pd.read_excel('2019Volume.xlsx')\n",
    "func.head(3)"
   ]
  },
  {
   "cell_type": "code",
   "execution_count": 7,
   "metadata": {},
   "outputs": [
    {
     "data": {
      "text/plain": [
       "(173, 34)"
      ]
     },
     "execution_count": 7,
     "metadata": {},
     "output_type": "execute_result"
    }
   ],
   "source": [
    "func.shape"
   ]
  },
  {
   "cell_type": "code",
   "execution_count": 17,
   "metadata": {},
   "outputs": [],
   "source": [
    "X = func['NO1 Sell']\n",
    "Y = func['NO1 Buy']"
   ]
  },
  {
   "cell_type": "code",
   "execution_count": 18,
   "metadata": {},
   "outputs": [
    {
     "data": {
      "text/plain": [
       "<matplotlib.collections.PathCollection at 0x10ccdc6d8>"
      ]
     },
     "execution_count": 18,
     "metadata": {},
     "output_type": "execute_result"
    },
    {
     "data": {
      "image/png": "[encoded data removed]",
      "text/plain": [
       "<matplotlib.figure.Figure at 0x10cd509b0>"
      ]
     },
     "metadata": {},
     "output_type": "display_data"
    }
   ],
   "source": [
    "plt.scatter(X,Y)"
   ]
  },
  {
   "cell_type": "code",
   "execution_count": null,
   "metadata": {
    "collapsed": true
   },
   "outputs": [],
   "source": []
  }
 ],
 "metadata": {
  "kernelspec": {
   "display_name": "Python 3",
   "language": "python",
   "name": "python3"
  },
  "language_info": {
   "codemirror_mode": {
    "name": "ipython",
    "version": 3
   },
   "file_extension": ".py",
   "mimetype": "text/x-python",
   "name": "python",
   "nbconvert_exporter": "python",
   "pygments_lexer": "ipython3",
   "version": "3.6.3"
  }
 },
 "nbformat": 4,
 "nbformat_minor": 2
}
